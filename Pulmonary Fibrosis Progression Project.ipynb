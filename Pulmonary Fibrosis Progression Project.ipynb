{
 "cells": [
  {
   "cell_type": "markdown",
   "metadata": {
    "papermill": {
     "duration": 0.013906,
     "end_time": "2020-08-30T20:55:42.583714",
     "exception": false,
     "start_time": "2020-08-30T20:55:42.569808",
     "status": "completed"
    },
    "tags": []
   },
   "source": [
    "This code was written by Zainab Haider\n",
    "\n",
    "Jupyter Notebook/Python\n",
    "\n",
    "08/30/2020"
   ]
  },
  {
   "cell_type": "markdown",
   "metadata": {
    "papermill": {
     "duration": 0.012535,
     "end_time": "2020-08-30T20:55:42.608847",
     "exception": false,
     "start_time": "2020-08-30T20:55:42.596312",
     "status": "completed"
    },
    "tags": []
   },
   "source": [
    "# **Predicting Progression of Pulmonary Fibrosis using Multiple Linear Regression**"
   ]
  },
  {
   "cell_type": "markdown",
   "metadata": {
    "papermill": {
     "duration": 0.012235,
     "end_time": "2020-08-30T20:55:42.635071",
     "exception": false,
     "start_time": "2020-08-30T20:55:42.622836",
     "status": "completed"
    },
    "tags": []
   },
   "source": [
    "In this notebook, I have used Multiple Linear Regression to predict lung capacity decline in Pulmonary Fibrosis patients.\n",
    "\n",
    "The dataset for this project is from the OSIC Pulmonary Fibrosis Progression project on Kaggle: https://www.kaggle.com/c/osic-pulmonary-fibrosis-progression, which looks at lung capacity over time for patients with pulmonary fibrosis."
   ]
  },
  {
   "cell_type": "markdown",
   "metadata": {
    "papermill": {
     "duration": 0.012011,
     "end_time": "2020-08-30T20:55:42.659622",
     "exception": false,
     "start_time": "2020-08-30T20:55:42.647611",
     "status": "completed"
    },
    "tags": []
   },
   "source": [
    "# **Library**"
   ]
  },
  {
   "cell_type": "code",
   "execution_count": 1,
   "metadata": {
    "_cell_guid": "b1076dfc-b9ad-4769-8c92-a6c4dae69d19",
    "_uuid": "8f2839f25d086af736a60e9eeb907d3b93b6e0e5",
    "execution": {
     "iopub.execute_input": "2020-08-30T20:55:42.692809Z",
     "iopub.status.busy": "2020-08-30T20:55:42.691999Z",
     "iopub.status.idle": "2020-08-30T20:55:43.778550Z",
     "shell.execute_reply": "2020-08-30T20:55:43.777718Z"
    },
    "papermill": {
     "duration": 1.106774,
     "end_time": "2020-08-30T20:55:43.778683",
     "exception": false,
     "start_time": "2020-08-30T20:55:42.671909",
     "status": "completed"
    },
    "tags": []
   },
   "outputs": [],
   "source": [
    "import numpy as np\n",
    "import pandas as pd\n",
    "pd.plotting.register_matplotlib_converters()\n",
    "import matplotlib.pyplot as plt\n",
    "%matplotlib inline\n",
    "import seaborn as sns\n",
    "import os"
   ]
  },
  {
   "cell_type": "markdown",
   "metadata": {
    "papermill": {
     "duration": 0.012166,
     "end_time": "2020-08-30T20:55:43.803358",
     "exception": false,
     "start_time": "2020-08-30T20:55:43.791192",
     "status": "completed"
    },
    "tags": []
   },
   "source": [
    "# **Load Data**"
   ]
  },
  {
   "cell_type": "code",
   "execution_count": 2,
   "metadata": {
    "_cell_guid": "79c7e3d0-c299-4dcb-8224-4455121ee9b0",
    "_uuid": "d629ff2d2480ee46fbb7e2d37f6b5fab8052498a",
    "execution": {
     "iopub.execute_input": "2020-08-30T20:55:43.835804Z",
     "iopub.status.busy": "2020-08-30T20:55:43.834891Z",
     "iopub.status.idle": "2020-08-30T20:55:43.858812Z",
     "shell.execute_reply": "2020-08-30T20:55:43.858147Z"
    },
    "papermill": {
     "duration": 0.043162,
     "end_time": "2020-08-30T20:55:43.858955",
     "exception": false,
     "start_time": "2020-08-30T20:55:43.815793",
     "status": "completed"
    },
    "tags": []
   },
   "outputs": [],
   "source": [
    "train = pd.read_csv('../input/osic-pulmonary-fibrosis-progression/train.csv')\n",
    "test = pd.read_csv('../input/osic-pulmonary-fibrosis-progression/test.csv')\n",
    "sample = pd.read_csv('/kaggle/input/osic-pulmonary-fibrosis-progression/sample_submission.csv')"
   ]
  },
  {
   "cell_type": "code",
   "execution_count": 3,
   "metadata": {
    "execution": {
     "iopub.execute_input": "2020-08-30T20:55:43.898722Z",
     "iopub.status.busy": "2020-08-30T20:55:43.897944Z",
     "iopub.status.idle": "2020-08-30T20:55:43.909752Z",
     "shell.execute_reply": "2020-08-30T20:55:43.909015Z"
    },
    "papermill": {
     "duration": 0.038267,
     "end_time": "2020-08-30T20:55:43.909883",
     "exception": false,
     "start_time": "2020-08-30T20:55:43.871616",
     "status": "completed"
    },
    "tags": []
   },
   "outputs": [
    {
     "data": {
      "text/html": [
       "<div>\n",
       "<style scoped>\n",
       "    .dataframe tbody tr th:only-of-type {\n",
       "        vertical-align: middle;\n",
       "    }\n",
       "\n",
       "    .dataframe tbody tr th {\n",
       "        vertical-align: top;\n",
       "    }\n",
       "\n",
       "    .dataframe thead th {\n",
       "        text-align: right;\n",
       "    }\n",
       "</style>\n",
       "<table border=\"1\" class=\"dataframe\">\n",
       "  <thead>\n",
       "    <tr style=\"text-align: right;\">\n",
       "      <th></th>\n",
       "      <th>Patient</th>\n",
       "      <th>Weeks</th>\n",
       "      <th>FVC</th>\n",
       "      <th>Percent</th>\n",
       "      <th>Age</th>\n",
       "      <th>Sex</th>\n",
       "      <th>SmokingStatus</th>\n",
       "    </tr>\n",
       "  </thead>\n",
       "  <tbody>\n",
       "    <tr>\n",
       "      <th>0</th>\n",
       "      <td>ID00007637202177411956430</td>\n",
       "      <td>-4</td>\n",
       "      <td>2315</td>\n",
       "      <td>58.253649</td>\n",
       "      <td>79</td>\n",
       "      <td>Male</td>\n",
       "      <td>Ex-smoker</td>\n",
       "    </tr>\n",
       "    <tr>\n",
       "      <th>1</th>\n",
       "      <td>ID00007637202177411956430</td>\n",
       "      <td>5</td>\n",
       "      <td>2214</td>\n",
       "      <td>55.712129</td>\n",
       "      <td>79</td>\n",
       "      <td>Male</td>\n",
       "      <td>Ex-smoker</td>\n",
       "    </tr>\n",
       "    <tr>\n",
       "      <th>2</th>\n",
       "      <td>ID00007637202177411956430</td>\n",
       "      <td>7</td>\n",
       "      <td>2061</td>\n",
       "      <td>51.862104</td>\n",
       "      <td>79</td>\n",
       "      <td>Male</td>\n",
       "      <td>Ex-smoker</td>\n",
       "    </tr>\n",
       "    <tr>\n",
       "      <th>3</th>\n",
       "      <td>ID00007637202177411956430</td>\n",
       "      <td>9</td>\n",
       "      <td>2144</td>\n",
       "      <td>53.950679</td>\n",
       "      <td>79</td>\n",
       "      <td>Male</td>\n",
       "      <td>Ex-smoker</td>\n",
       "    </tr>\n",
       "    <tr>\n",
       "      <th>4</th>\n",
       "      <td>ID00007637202177411956430</td>\n",
       "      <td>11</td>\n",
       "      <td>2069</td>\n",
       "      <td>52.063412</td>\n",
       "      <td>79</td>\n",
       "      <td>Male</td>\n",
       "      <td>Ex-smoker</td>\n",
       "    </tr>\n",
       "  </tbody>\n",
       "</table>\n",
       "</div>"
      ],
      "text/plain": [
       "                     Patient  Weeks   FVC    Percent  Age   Sex SmokingStatus\n",
       "0  ID00007637202177411956430     -4  2315  58.253649   79  Male     Ex-smoker\n",
       "1  ID00007637202177411956430      5  2214  55.712129   79  Male     Ex-smoker\n",
       "2  ID00007637202177411956430      7  2061  51.862104   79  Male     Ex-smoker\n",
       "3  ID00007637202177411956430      9  2144  53.950679   79  Male     Ex-smoker\n",
       "4  ID00007637202177411956430     11  2069  52.063412   79  Male     Ex-smoker"
      ]
     },
     "execution_count": 3,
     "metadata": {},
     "output_type": "execute_result"
    }
   ],
   "source": [
    "train.head()"
   ]
  },
  {
   "cell_type": "markdown",
   "metadata": {
    "papermill": {
     "duration": 0.012475,
     "end_time": "2020-08-30T20:55:43.935356",
     "exception": false,
     "start_time": "2020-08-30T20:55:43.922881",
     "status": "completed"
    },
    "tags": []
   },
   "source": [
    "# **Exploratory Data Analysis**"
   ]
  },
  {
   "cell_type": "markdown",
   "metadata": {
    "papermill": {
     "duration": 0.012634,
     "end_time": "2020-08-30T20:55:43.960762",
     "exception": false,
     "start_time": "2020-08-30T20:55:43.948128",
     "status": "completed"
    },
    "tags": []
   },
   "source": [
    "There is no missing data or any duplicate data in this dataset.\n",
    "\n",
    "\n",
    "There are 1549 entries in this dataset, with 7 columns:\n",
    "* *Patient* - Patient ID; There are 176 unique patient IDs in this dataset.\n",
    "* *Weeks* - This is the number of weeks since the baseline CT scan (Week 0). The data for number of weeks ranges from -5 to 133, where negative values for Weeks are the number of weeks before the baseline data was collected\n",
    "* *FVC* - Forced Vital Capacity, measured in mililiters (mL). This is a measure of the maximal exhalation of air from the lungs. \n",
    "* *Percent* - According to OSIC's definition, this is a measure of a patient's FVC as a percent of the FVC of a person with similar characteristics. In other words: it is a measure how a patient's lung capacity compares to similar patients. Ranges from 28% to 153% for patients in this dataset.\n",
    "* *Age* - Age of patients. Ranges from 49 to 88.\n",
    "* *Sex* - 37 females (21.02% of patients), 139 males (78.98% of patients)\n",
    "* *Smoking Status* - 9 currently smoke (5.11% of patients), 118 are ex-smokers (67.05% of patients), and 49 are non-smokers (27.84% of patients)"
   ]
  },
  {
   "cell_type": "code",
   "execution_count": 4,
   "metadata": {
    "execution": {
     "iopub.execute_input": "2020-08-30T20:55:43.999392Z",
     "iopub.status.busy": "2020-08-30T20:55:43.998303Z",
     "iopub.status.idle": "2020-08-30T20:55:44.002074Z",
     "shell.execute_reply": "2020-08-30T20:55:44.002695Z"
    },
    "papermill": {
     "duration": 0.029182,
     "end_time": "2020-08-30T20:55:44.002852",
     "exception": false,
     "start_time": "2020-08-30T20:55:43.973670",
     "status": "completed"
    },
    "tags": []
   },
   "outputs": [
    {
     "name": "stdout",
     "output_type": "stream",
     "text": [
      "(1549, 7)\n",
      "Series([], dtype: int64)\n",
      "No missing data\n"
     ]
    }
   ],
   "source": [
    "print(train.shape)\n",
    "missing = (train.isnull().sum())\n",
    "print(missing[missing > 0])\n",
    "print(\"No missing data\")"
   ]
  },
  {
   "cell_type": "code",
   "execution_count": 5,
   "metadata": {
    "execution": {
     "iopub.execute_input": "2020-08-30T20:55:44.039321Z",
     "iopub.status.busy": "2020-08-30T20:55:44.038442Z",
     "iopub.status.idle": "2020-08-30T20:55:44.047904Z",
     "shell.execute_reply": "2020-08-30T20:55:44.047131Z"
    },
    "papermill": {
     "duration": 0.031719,
     "end_time": "2020-08-30T20:55:44.048036",
     "exception": false,
     "start_time": "2020-08-30T20:55:44.016317",
     "status": "completed"
    },
    "tags": []
   },
   "outputs": [
    {
     "name": "stdout",
     "output_type": "stream",
     "text": [
      "No duplicate data\n"
     ]
    }
   ],
   "source": [
    "dups = train.duplicated()\n",
    "if dups.any() == False:\n",
    "    print(\"No duplicate data\")"
   ]
  },
  {
   "cell_type": "code",
   "execution_count": 6,
   "metadata": {
    "execution": {
     "iopub.execute_input": "2020-08-30T20:55:44.082321Z",
     "iopub.status.busy": "2020-08-30T20:55:44.081183Z",
     "iopub.status.idle": "2020-08-30T20:55:44.085819Z",
     "shell.execute_reply": "2020-08-30T20:55:44.085068Z"
    },
    "papermill": {
     "duration": 0.024756,
     "end_time": "2020-08-30T20:55:44.085956",
     "exception": false,
     "start_time": "2020-08-30T20:55:44.061200",
     "status": "completed"
    },
    "tags": []
   },
   "outputs": [
    {
     "name": "stdout",
     "output_type": "stream",
     "text": [
      "Total number of data points: 1549\n",
      "Total number of patients: 176\n"
     ]
    }
   ],
   "source": [
    "print(\"Total number of data points: \" + str(train['Patient'].count()))\n",
    "print(\"Total number of patients: \" + str(train['Patient'].nunique()))"
   ]
  },
  {
   "cell_type": "code",
   "execution_count": 7,
   "metadata": {
    "execution": {
     "iopub.execute_input": "2020-08-30T20:55:44.120823Z",
     "iopub.status.busy": "2020-08-30T20:55:44.120008Z",
     "iopub.status.idle": "2020-08-30T20:55:44.379533Z",
     "shell.execute_reply": "2020-08-30T20:55:44.378788Z"
    },
    "papermill": {
     "duration": 0.280355,
     "end_time": "2020-08-30T20:55:44.379655",
     "exception": false,
     "start_time": "2020-08-30T20:55:44.099300",
     "status": "completed"
    },
    "tags": []
   },
   "outputs": [
    {
     "name": "stdout",
     "output_type": "stream",
     "text": [
      "Minimum number of weeks: -5\n",
      "Maximum number of weeks: 133\n"
     ]
    },
    {
     "data": {
      "text/plain": [
       "<matplotlib.axes._subplots.AxesSubplot at 0x7feb75193990>"
      ]
     },
     "execution_count": 7,
     "metadata": {},
     "output_type": "execute_result"
    },
    {
     "data": {
      "image/png": "[encoded data removed]",
      "text/plain": [
       "<Figure size 576x576 with 1 Axes>"
      ]
     },
     "metadata": {
      "needs_background": "light"
     },
     "output_type": "display_data"
    }
   ],
   "source": [
    "# Weeks Data\n",
    "\n",
    "print(\"Minimum number of weeks: \" + str(train['Weeks'].min()))\n",
    "print(\"Maximum number of weeks: \" + str(train['Weeks'].max()))\n",
    "\n",
    "plt.title('Distribution of Number of Weeks')\n",
    "train['Weeks'].hist(bins=10, figsize=(8, 8))"
   ]
  },
  {
   "cell_type": "code",
   "execution_count": 8,
   "metadata": {
    "execution": {
     "iopub.execute_input": "2020-08-30T20:55:44.421005Z",
     "iopub.status.busy": "2020-08-30T20:55:44.420176Z",
     "iopub.status.idle": "2020-08-30T20:55:44.625218Z",
     "shell.execute_reply": "2020-08-30T20:55:44.624485Z"
    },
    "papermill": {
     "duration": 0.231714,
     "end_time": "2020-08-30T20:55:44.625341",
     "exception": false,
     "start_time": "2020-08-30T20:55:44.393627",
     "status": "completed"
    },
    "tags": []
   },
   "outputs": [
    {
     "name": "stdout",
     "output_type": "stream",
     "text": [
      "Minimum value for Percent: 28.877576671694303\n",
      "Maximum value for Percent: 153.145377828922\n"
     ]
    },
    {
     "data": {
      "text/plain": [
       "<matplotlib.axes._subplots.AxesSubplot at 0x7feb74e86990>"
      ]
     },
     "execution_count": 8,
     "metadata": {},
     "output_type": "execute_result"
    },
    {
     "data": {
      "image/png": "[encoded data removed]",
      "text/plain": [
       "<Figure size 576x576 with 1 Axes>"
      ]
     },
     "metadata": {
      "needs_background": "light"
     },
     "output_type": "display_data"
    }
   ],
   "source": [
    "# Percent Data\n",
    "\n",
    "print(\"Minimum value for Percent: \" + str(train['Percent'].min()))\n",
    "print(\"Maximum value for Percent: \" + str(train['Percent'].max()))\n",
    "\n",
    "plt.title('Distribution of Percent')\n",
    "train['Percent'].hist(bins=10, figsize=(8, 8))"
   ]
  },
  {
   "cell_type": "markdown",
   "metadata": {
    "papermill": {
     "duration": 0.013919,
     "end_time": "2020-08-30T20:55:44.653958",
     "exception": false,
     "start_time": "2020-08-30T20:55:44.640039",
     "status": "completed"
    },
    "tags": []
   },
   "source": [
    "From the scatterplot of number of weeks and FVC measurements (below), we can see that majority of patients had FVC measurements below 5000 mL. An FVC measurement of 4800 mL, or greater, is considered healthy. Since patients with pulmonary fibrosis are characterized to have compromised lung function, the FVC measurements are expected to be below 4800 mL. \n",
    "\n",
    "However, there are a few outliers that have very high FVC values. After some investigation, I found that nearly all the FVC values greater than 5000 mL came from one patient: ID00219637202258203123958. One of the FVC values for this patient is above 6000 mL, which seems to be the largest outlier so far. After analyzing factors such as age and smoking status, I will decide if this outlier should be removed from the dataset."
   ]
  },
  {
   "cell_type": "code",
   "execution_count": 9,
   "metadata": {
    "execution": {
     "iopub.execute_input": "2020-08-30T20:55:44.695047Z",
     "iopub.status.busy": "2020-08-30T20:55:44.689982Z",
     "iopub.status.idle": "2020-08-30T20:55:45.168522Z",
     "shell.execute_reply": "2020-08-30T20:55:45.167838Z"
    },
    "papermill": {
     "duration": 0.500298,
     "end_time": "2020-08-30T20:55:45.168661",
     "exception": false,
     "start_time": "2020-08-30T20:55:44.668363",
     "status": "completed"
    },
    "tags": []
   },
   "outputs": [
    {
     "data": {
      "text/plain": [
       "<matplotlib.axes._subplots.AxesSubplot at 0x7feb74f72750>"
      ]
     },
     "execution_count": 9,
     "metadata": {},
     "output_type": "execute_result"
    },
    {
     "data": {
      "image/png": "[encoded data removed]",
      "text/plain": [
       "<Figure size 576x576 with 1 Axes>"
      ]
     },
     "metadata": {
      "needs_background": "light"
     },
     "output_type": "display_data"
    }
   ],
   "source": [
    "# FVC x Weeks\n",
    "\n",
    "plt.figure(figsize=(8,8))\n",
    "plt.xlim(-10, 160)\n",
    "plt.title('FVC Measurements, by the Number of Weeks')\n",
    "sns.regplot(x=train['Weeks'], y=train['FVC'])\n"
   ]
  },
  {
   "cell_type": "code",
   "execution_count": 10,
   "metadata": {
    "execution": {
     "iopub.execute_input": "2020-08-30T20:55:45.220640Z",
     "iopub.status.busy": "2020-08-30T20:55:45.219619Z",
     "iopub.status.idle": "2020-08-30T20:55:45.224778Z",
     "shell.execute_reply": "2020-08-30T20:55:45.224028Z"
    },
    "papermill": {
     "duration": 0.040246,
     "end_time": "2020-08-30T20:55:45.224905",
     "exception": false,
     "start_time": "2020-08-30T20:55:45.184659",
     "status": "completed"
    },
    "tags": []
   },
   "outputs": [
    {
     "data": {
      "text/html": [
       "<div>\n",
       "<style scoped>\n",
       "    .dataframe tbody tr th:only-of-type {\n",
       "        vertical-align: middle;\n",
       "    }\n",
       "\n",
       "    .dataframe tbody tr th {\n",
       "        vertical-align: top;\n",
       "    }\n",
       "\n",
       "    .dataframe thead th {\n",
       "        text-align: right;\n",
       "    }\n",
       "</style>\n",
       "<table border=\"1\" class=\"dataframe\">\n",
       "  <thead>\n",
       "    <tr style=\"text-align: right;\">\n",
       "      <th></th>\n",
       "      <th>Patient</th>\n",
       "      <th>Weeks</th>\n",
       "      <th>FVC</th>\n",
       "      <th>Percent</th>\n",
       "      <th>Age</th>\n",
       "      <th>Sex</th>\n",
       "      <th>SmokingStatus</th>\n",
       "    </tr>\n",
       "  </thead>\n",
       "  <tbody>\n",
       "    <tr>\n",
       "      <th>124</th>\n",
       "      <td>ID00032637202181710233084</td>\n",
       "      <td>30</td>\n",
       "      <td>5045</td>\n",
       "      <td>119.629138</td>\n",
       "      <td>63</td>\n",
       "      <td>Male</td>\n",
       "      <td>Ex-smoker</td>\n",
       "    </tr>\n",
       "    <tr>\n",
       "      <th>822</th>\n",
       "      <td>ID00219637202258203123958</td>\n",
       "      <td>0</td>\n",
       "      <td>6399</td>\n",
       "      <td>153.012912</td>\n",
       "      <td>71</td>\n",
       "      <td>Male</td>\n",
       "      <td>Ex-smoker</td>\n",
       "    </tr>\n",
       "    <tr>\n",
       "      <th>823</th>\n",
       "      <td>ID00219637202258203123958</td>\n",
       "      <td>4</td>\n",
       "      <td>5678</td>\n",
       "      <td>135.772358</td>\n",
       "      <td>71</td>\n",
       "      <td>Male</td>\n",
       "      <td>Ex-smoker</td>\n",
       "    </tr>\n",
       "    <tr>\n",
       "      <th>824</th>\n",
       "      <td>ID00219637202258203123958</td>\n",
       "      <td>7</td>\n",
       "      <td>5910</td>\n",
       "      <td>141.319943</td>\n",
       "      <td>71</td>\n",
       "      <td>Male</td>\n",
       "      <td>Ex-smoker</td>\n",
       "    </tr>\n",
       "    <tr>\n",
       "      <th>825</th>\n",
       "      <td>ID00219637202258203123958</td>\n",
       "      <td>9</td>\n",
       "      <td>5739</td>\n",
       "      <td>137.230990</td>\n",
       "      <td>71</td>\n",
       "      <td>Male</td>\n",
       "      <td>Ex-smoker</td>\n",
       "    </tr>\n",
       "    <tr>\n",
       "      <th>826</th>\n",
       "      <td>ID00219637202258203123958</td>\n",
       "      <td>11</td>\n",
       "      <td>5763</td>\n",
       "      <td>137.804878</td>\n",
       "      <td>71</td>\n",
       "      <td>Male</td>\n",
       "      <td>Ex-smoker</td>\n",
       "    </tr>\n",
       "    <tr>\n",
       "      <th>827</th>\n",
       "      <td>ID00219637202258203123958</td>\n",
       "      <td>17</td>\n",
       "      <td>5844</td>\n",
       "      <td>139.741750</td>\n",
       "      <td>71</td>\n",
       "      <td>Male</td>\n",
       "      <td>Ex-smoker</td>\n",
       "    </tr>\n",
       "    <tr>\n",
       "      <th>828</th>\n",
       "      <td>ID00219637202258203123958</td>\n",
       "      <td>27</td>\n",
       "      <td>5613</td>\n",
       "      <td>134.218077</td>\n",
       "      <td>71</td>\n",
       "      <td>Male</td>\n",
       "      <td>Ex-smoker</td>\n",
       "    </tr>\n",
       "    <tr>\n",
       "      <th>829</th>\n",
       "      <td>ID00219637202258203123958</td>\n",
       "      <td>40</td>\n",
       "      <td>5895</td>\n",
       "      <td>140.961263</td>\n",
       "      <td>71</td>\n",
       "      <td>Male</td>\n",
       "      <td>Ex-smoker</td>\n",
       "    </tr>\n",
       "    <tr>\n",
       "      <th>830</th>\n",
       "      <td>ID00219637202258203123958</td>\n",
       "      <td>56</td>\n",
       "      <td>5768</td>\n",
       "      <td>137.924438</td>\n",
       "      <td>71</td>\n",
       "      <td>Male</td>\n",
       "      <td>Ex-smoker</td>\n",
       "    </tr>\n",
       "  </tbody>\n",
       "</table>\n",
       "</div>"
      ],
      "text/plain": [
       "                       Patient  Weeks   FVC     Percent  Age   Sex  \\\n",
       "124  ID00032637202181710233084     30  5045  119.629138   63  Male   \n",
       "822  ID00219637202258203123958      0  6399  153.012912   71  Male   \n",
       "823  ID00219637202258203123958      4  5678  135.772358   71  Male   \n",
       "824  ID00219637202258203123958      7  5910  141.319943   71  Male   \n",
       "825  ID00219637202258203123958      9  5739  137.230990   71  Male   \n",
       "826  ID00219637202258203123958     11  5763  137.804878   71  Male   \n",
       "827  ID00219637202258203123958     17  5844  139.741750   71  Male   \n",
       "828  ID00219637202258203123958     27  5613  134.218077   71  Male   \n",
       "829  ID00219637202258203123958     40  5895  140.961263   71  Male   \n",
       "830  ID00219637202258203123958     56  5768  137.924438   71  Male   \n",
       "\n",
       "    SmokingStatus  \n",
       "124     Ex-smoker  \n",
       "822     Ex-smoker  \n",
       "823     Ex-smoker  \n",
       "824     Ex-smoker  \n",
       "825     Ex-smoker  \n",
       "826     Ex-smoker  \n",
       "827     Ex-smoker  \n",
       "828     Ex-smoker  \n",
       "829     Ex-smoker  \n",
       "830     Ex-smoker  "
      ]
     },
     "execution_count": 10,
     "metadata": {},
     "output_type": "execute_result"
    }
   ],
   "source": [
    "# Subset of patients that have FVC measurements greater than 5000 mL\n",
    "# As you can see, 9 out of the 10 entries are associated with patient ID00032637202181710233084, where the baseline FVC measurement is above 6000 mL.\n",
    "train.loc[train.FVC > 5000]"
   ]
  },
  {
   "cell_type": "markdown",
   "metadata": {
    "papermill": {
     "duration": 0.016211,
     "end_time": "2020-08-30T20:55:45.257413",
     "exception": false,
     "start_time": "2020-08-30T20:55:45.241202",
     "status": "completed"
    },
    "tags": []
   },
   "source": [
    "I created a 'fvcstat' dataset to look at the Age, Sex, SmokingStatus variables for the individual patients, rather than every data point. These three variables are constant and remain unchanged, so it is more meaninful to analyze this data by patient. \n",
    "\n",
    "Thus, this dataset has 176 entries, rather than 1549. This way, the histogram plot is not biased by the presence of more data points available for a particular patient. For example, if a dataset included data for a non-smoker patient with 10 entries and an ex-smoker patient with 2 entries, then a histogram would show that there is a higher frequency of non-smoker patients than ex-smokers, which is not true.\n",
    "\n",
    "Further, to analyze FVC values based on age, sex, and smoking status, I decided to analyze the median FVC value for each patient, rather than the individual FVC values. Similar to the problem of having more data points for one patient over the other, analyzing FVC valus based on age and smoking status can be skewed when one patient's data points, or one age group, or one smoking status exists more than the other. To counter this, I am analyzing each patient's data with the median FVC value. There is some loss of precision here, because many patients have data that fluctuates dramatically, but the data is no longer skewed because one factor has more data available than another."
   ]
  },
  {
   "cell_type": "code",
   "execution_count": 11,
   "metadata": {
    "execution": {
     "iopub.execute_input": "2020-08-30T20:55:45.300133Z",
     "iopub.status.busy": "2020-08-30T20:55:45.298953Z",
     "iopub.status.idle": "2020-08-30T20:55:45.324009Z",
     "shell.execute_reply": "2020-08-30T20:55:45.323320Z"
    },
    "papermill": {
     "duration": 0.050533,
     "end_time": "2020-08-30T20:55:45.324155",
     "exception": false,
     "start_time": "2020-08-30T20:55:45.273622",
     "status": "completed"
    },
    "tags": []
   },
   "outputs": [],
   "source": [
    "fvcstat = train.groupby(['Patient','Age','Sex','SmokingStatus']).FVC.agg([min, max,'mean','median'])\n",
    "fvcstat = fvcstat.reset_index()"
   ]
  },
  {
   "cell_type": "code",
   "execution_count": 12,
   "metadata": {
    "execution": {
     "iopub.execute_input": "2020-08-30T20:55:45.373305Z",
     "iopub.status.busy": "2020-08-30T20:55:45.371700Z",
     "iopub.status.idle": "2020-08-30T20:55:45.588941Z",
     "shell.execute_reply": "2020-08-30T20:55:45.588306Z"
    },
    "papermill": {
     "duration": 0.248485,
     "end_time": "2020-08-30T20:55:45.589079",
     "exception": false,
     "start_time": "2020-08-30T20:55:45.340594",
     "status": "completed"
    },
    "tags": []
   },
   "outputs": [
    {
     "name": "stdout",
     "output_type": "stream",
     "text": [
      "Minimum value for Age: 49\n",
      "Maximum value for Age: 88\n"
     ]
    },
    {
     "data": {
      "text/plain": [
       "Text(0.5, 1.0, 'Distribution of Age')"
      ]
     },
     "execution_count": 12,
     "metadata": {},
     "output_type": "execute_result"
    },
    {
     "data": {
      "image/png": "[encoded data removed]",
      "text/plain": [
       "<Figure size 576x576 with 1 Axes>"
      ]
     },
     "metadata": {
      "needs_background": "light"
     },
     "output_type": "display_data"
    }
   ],
   "source": [
    "# Age Data\n",
    "\n",
    "print(\"Minimum value for Age: \" + str(fvcstat['Age'].min()))\n",
    "print(\"Maximum value for Age: \" + str(fvcstat['Age'].max()))\n",
    "\n",
    "fvcstat['Age'].hist(bins=10, figsize=(8, 8))\n",
    "plt.title('Distribution of Age')"
   ]
  },
  {
   "cell_type": "markdown",
   "metadata": {
    "papermill": {
     "duration": 0.016851,
     "end_time": "2020-08-30T20:55:45.622631",
     "exception": false,
     "start_time": "2020-08-30T20:55:45.605780",
     "status": "completed"
    },
    "tags": []
   },
   "source": [
    "This dataset consists of significantly more male patients than female patients, which can add a sex bias to data analysis and the model. Ekstrom et al. (2014) explained that, a majority of patients with idiopathic pulmonary fibrosis (IPF), the most common form of pulmonary fibrosis (PF), are male, with a \"history of current or past smoking.\" So, although there seems to be a sex bias, its possible that this is representative of the population of individuals with PF."
   ]
  },
  {
   "cell_type": "code",
   "execution_count": 13,
   "metadata": {
    "execution": {
     "iopub.execute_input": "2020-08-30T20:55:45.680866Z",
     "iopub.status.busy": "2020-08-30T20:55:45.665232Z",
     "iopub.status.idle": "2020-08-30T20:55:45.866827Z",
     "shell.execute_reply": "2020-08-30T20:55:45.867400Z"
    },
    "papermill": {
     "duration": 0.228356,
     "end_time": "2020-08-30T20:55:45.867589",
     "exception": false,
     "start_time": "2020-08-30T20:55:45.639233",
     "status": "completed"
    },
    "tags": []
   },
   "outputs": [
    {
     "name": "stdout",
     "output_type": "stream",
     "text": [
      "      Sex  count\n",
      "0  Female     37\n",
      "1    Male    139\n"
     ]
    },
    {
     "data": {
      "text/plain": [
       "<Figure size 576x576 with 0 Axes>"
      ]
     },
     "execution_count": 13,
     "metadata": {},
     "output_type": "execute_result"
    },
    {
     "data": {
      "image/png": "[encoded data removed]",
      "text/plain": [
       "<Figure size 360x360 with 1 Axes>"
      ]
     },
     "metadata": {
      "needs_background": "light"
     },
     "output_type": "display_data"
    },
    {
     "data": {
      "text/plain": [
       "<Figure size 576x576 with 0 Axes>"
      ]
     },
     "metadata": {},
     "output_type": "display_data"
    }
   ],
   "source": [
    "# Sex Data\n",
    "\n",
    "sex = fvcstat.groupby(['Sex'])['Sex'].agg(['count']).reset_index()\n",
    "print(sex)\n",
    "\n",
    "sns.catplot(x=\"Sex\", y=\"count\", kind=\"bar\", data=sex)\n",
    "plt.title('Distribution of Sex')\n",
    "plt.figure(figsize=(8,8))\n"
   ]
  },
  {
   "cell_type": "markdown",
   "metadata": {
    "papermill": {
     "duration": 0.016934,
     "end_time": "2020-08-30T20:55:45.901933",
     "exception": false,
     "start_time": "2020-08-30T20:55:45.884999",
     "status": "completed"
    },
    "tags": []
   },
   "source": [
    "The age distributions for both males and females follow a similar shape, where both distributions has increased frequency of patients between the ages 60-65, and lower frequency of patients under 60 and greater then 75."
   ]
  },
  {
   "cell_type": "code",
   "execution_count": 14,
   "metadata": {
    "execution": {
     "iopub.execute_input": "2020-08-30T20:55:46.037478Z",
     "iopub.status.busy": "2020-08-30T20:55:45.946166Z",
     "iopub.status.idle": "2020-08-30T20:55:46.360981Z",
     "shell.execute_reply": "2020-08-30T20:55:46.360327Z"
    },
    "papermill": {
     "duration": 0.442009,
     "end_time": "2020-08-30T20:55:46.361121",
     "exception": false,
     "start_time": "2020-08-30T20:55:45.919112",
     "status": "completed"
    },
    "tags": []
   },
   "outputs": [
    {
     "data": {
      "text/plain": [
       "<matplotlib.legend.Legend at 0x7feb74fd4b90>"
      ]
     },
     "execution_count": 14,
     "metadata": {},
     "output_type": "execute_result"
    },
    {
     "data": {
      "image/png": "[encoded data removed]",
      "text/plain": [
       "<Figure size 576x576 with 1 Axes>"
      ]
     },
     "metadata": {
      "needs_background": "light"
     },
     "output_type": "display_data"
    }
   ],
   "source": [
    "# Age distribution, by sex\n",
    "\n",
    "plt.figure(figsize=(8,8))\n",
    "\n",
    "m = train.loc[train.Sex == 'Male']\n",
    "fm = train.loc[train.Sex == 'Female']\n",
    "\n",
    "# Histograms for each sex\n",
    "sns.distplot(a=m['Age'], label=\"Male\", kde=False)\n",
    "sns.distplot(a=fm['Age'], label=\"Female\", kde=False)\n",
    "\n",
    "plt.title(\"Distribution of Age, by Sex\")\n",
    "\n",
    "plt.legend()"
   ]
  },
  {
   "cell_type": "markdown",
   "metadata": {
    "papermill": {
     "duration": 0.017348,
     "end_time": "2020-08-30T20:55:46.396398",
     "exception": false,
     "start_time": "2020-08-30T20:55:46.379050",
     "status": "completed"
    },
    "tags": []
   },
   "source": [
    "The plot below shows that, in this dataset, female patients have a much lower median FVC than their male counterparts. Median FVC values for female patients hovers 2000 mL, whereas median FVC values for male patients is around 3000 mL."
   ]
  },
  {
   "cell_type": "code",
   "execution_count": 15,
   "metadata": {
    "execution": {
     "iopub.execute_input": "2020-08-30T20:55:46.452144Z",
     "iopub.status.busy": "2020-08-30T20:55:46.451303Z",
     "iopub.status.idle": "2020-08-30T20:55:46.952341Z",
     "shell.execute_reply": "2020-08-30T20:55:46.952931Z"
    },
    "papermill": {
     "duration": 0.538701,
     "end_time": "2020-08-30T20:55:46.953107",
     "exception": false,
     "start_time": "2020-08-30T20:55:46.414406",
     "status": "completed"
    },
    "tags": []
   },
   "outputs": [
    {
     "data": {
      "text/plain": [
       "<matplotlib.legend.Legend at 0x7feb74466e90>"
      ]
     },
     "execution_count": 15,
     "metadata": {},
     "output_type": "execute_result"
    },
    {
     "data": {
      "image/png": "[encoded data removed]",
      "text/plain": [
       "<Figure size 576x576 with 1 Axes>"
      ]
     },
     "metadata": {
      "needs_background": "light"
     },
     "output_type": "display_data"
    }
   ],
   "source": [
    "# Need to see the relationship between median FVC x Age, with regards to sex\n",
    "plt.figure(figsize=(8,8))\n",
    "\n",
    "f = fvcstat.loc[fvcstat.Sex == 'Male'] \n",
    "sns.regplot(x=f['Age'], y=f['median'])\n",
    "\n",
    "g = fvcstat.loc[fvcstat.Sex == 'Female'] \n",
    "sns.regplot(x=g['Age'], y=g['median'])\n",
    "\n",
    "plt.legend(labels=['Male', 'Female'])"
   ]
  },
  {
   "cell_type": "markdown",
   "metadata": {
    "papermill": {
     "duration": 0.018298,
     "end_time": "2020-08-30T20:55:46.989721",
     "exception": false,
     "start_time": "2020-08-30T20:55:46.971423",
     "status": "completed"
    },
    "tags": []
   },
   "source": [
    "There is a difference in the smoking status of males and females. For females patients, 32.43% are ex-smokers and 62.16% are non-smokers, whereas 66.67% of the male patients are ex-smokers and 18.71% are non-smokers. This seems to match the research on smoking status of patients with PF. Research by Kärkkäinen et al. (2017) showed that majority of non-smoker patients were female. In this dataset, non-smoker females and males are split equally (47% and 53%, respectively), but the majority of female patients were non-smokers."
   ]
  },
  {
   "cell_type": "code",
   "execution_count": 16,
   "metadata": {
    "execution": {
     "iopub.execute_input": "2020-08-30T20:55:47.042491Z",
     "iopub.status.busy": "2020-08-30T20:55:47.041638Z",
     "iopub.status.idle": "2020-08-30T20:55:47.344242Z",
     "shell.execute_reply": "2020-08-30T20:55:47.343450Z"
    },
    "papermill": {
     "duration": 0.335715,
     "end_time": "2020-08-30T20:55:47.344396",
     "exception": false,
     "start_time": "2020-08-30T20:55:47.008681",
     "status": "completed"
    },
    "tags": []
   },
   "outputs": [
    {
     "name": "stdout",
     "output_type": "stream",
     "text": [
      "      SmokingStatus  count\n",
      "0  Currently smokes      9\n",
      "1         Ex-smoker    118\n",
      "2      Never smoked     49\n",
      "\n",
      "      Sex     SmokingStatus  count\n",
      "0  Female  Currently smokes      2\n",
      "1  Female         Ex-smoker     12\n",
      "2  Female      Never smoked     23\n",
      "3    Male  Currently smokes      7\n",
      "4    Male         Ex-smoker    106\n",
      "5    Male      Never smoked     26\n"
     ]
    },
    {
     "data": {
      "text/plain": [
       "<Figure size 576x576 with 0 Axes>"
      ]
     },
     "execution_count": 16,
     "metadata": {},
     "output_type": "execute_result"
    },
    {
     "data": {
      "image/png": "[encoded data removed]",
      "text/plain": [
       "<Figure size 432.125x360 with 1 Axes>"
      ]
     },
     "metadata": {
      "needs_background": "light"
     },
     "output_type": "display_data"
    },
    {
     "data": {
      "text/plain": [
       "<Figure size 576x576 with 0 Axes>"
      ]
     },
     "metadata": {},
     "output_type": "display_data"
    }
   ],
   "source": [
    "# Smoking Data\n",
    "\n",
    "smoking = fvcstat.groupby(['SmokingStatus'])['SmokingStatus'].agg(['count']).reset_index()\n",
    "smoking_sex = fvcstat.groupby(['Sex','SmokingStatus'])['Sex'].agg(['count']).reset_index()\n",
    "\n",
    "print(smoking); print('')\n",
    "print(smoking_sex)\n",
    "\n",
    "sns.catplot(x=\"SmokingStatus\", y=\"count\", hue=\"Sex\",kind=\"bar\", data=smoking_sex)\n",
    "plt.title('Distribution of Smoking Status, by Sex')\n",
    "plt.figure(figsize=(8,8))"
   ]
  },
  {
   "cell_type": "markdown",
   "metadata": {
    "papermill": {
     "duration": 0.018381,
     "end_time": "2020-08-30T20:55:47.381920",
     "exception": false,
     "start_time": "2020-08-30T20:55:47.363539",
     "status": "completed"
    },
    "tags": []
   },
   "source": [
    "From the plot below, we see that the median FVC values decrease as age increases for individuals with a history of smoking. However, for non-smokers median FVC values actually seem to increase as age increases. It's not a dramatic increase, but it is still odd. According to the American Lung Association, FVC can decrease by 200 mL each decade, including \"healthy people who have never smoked.\" This could be attributed to the sample size of non-smokers."
   ]
  },
  {
   "cell_type": "code",
   "execution_count": 17,
   "metadata": {
    "execution": {
     "iopub.execute_input": "2020-08-30T20:55:47.436677Z",
     "iopub.status.busy": "2020-08-30T20:55:47.430010Z",
     "iopub.status.idle": "2020-08-30T20:55:48.128935Z",
     "shell.execute_reply": "2020-08-30T20:55:48.128283Z"
    },
    "papermill": {
     "duration": 0.728328,
     "end_time": "2020-08-30T20:55:48.129075",
     "exception": false,
     "start_time": "2020-08-30T20:55:47.400747",
     "status": "completed"
    },
    "tags": []
   },
   "outputs": [
    {
     "data": {
      "text/plain": [
       "<matplotlib.legend.Legend at 0x7feb743c9910>"
      ]
     },
     "execution_count": 17,
     "metadata": {},
     "output_type": "execute_result"
    },
    {
     "data": {
      "image/png": "[encoded data removed]",
      "text/plain": [
       "<Figure size 576x576 with 1 Axes>"
      ]
     },
     "metadata": {
      "needs_background": "light"
     },
     "output_type": "display_data"
    }
   ],
   "source": [
    "# age x smoking status by smoking\n",
    "plt.figure(figsize=(8,8))\n",
    "plt.title('Distribution of Median FVC Values and Age, by Smoking Status')\n",
    "\n",
    "f = fvcstat.loc[fvcstat.SmokingStatus == 'Ex-smoker'] \n",
    "sns.regplot(x=f['Age'], y=f['median'])\n",
    "\n",
    "g = fvcstat.loc[fvcstat.SmokingStatus == 'Currently smokes'] \n",
    "sns.regplot(x=g['Age'], y=g['median'])\n",
    "\n",
    "h = fvcstat.loc[fvcstat.SmokingStatus == 'Never smoked'] \n",
    "sns.regplot(x=h['Age'], y=h['median'])\n",
    "\n",
    "plt.legend(labels=['Ex-smoker', 'Currently smokes', 'Never smoked'])"
   ]
  },
  {
   "cell_type": "markdown",
   "metadata": {
    "papermill": {
     "duration": 0.025062,
     "end_time": "2020-08-30T20:55:48.175086",
     "exception": false,
     "start_time": "2020-08-30T20:55:48.150024",
     "status": "completed"
    },
    "tags": []
   },
   "source": [
    "Data for the Distribution of Percent and FVC values has a stronger correlation for male patients than female patients but that can likely be attributed to the fact that more data is available for male patients. In this dataset, the variable 'Percent' described how the FVC values for a patient compares to the FVC values of someone with similar characteristics (like, co-morbodities). So, it follows that Percent and FVC values are correlated"
   ]
  },
  {
   "cell_type": "code",
   "execution_count": 18,
   "metadata": {
    "execution": {
     "iopub.execute_input": "2020-08-30T20:55:48.227068Z",
     "iopub.status.busy": "2020-08-30T20:55:48.225934Z",
     "iopub.status.idle": "2020-08-30T20:55:48.852396Z",
     "shell.execute_reply": "2020-08-30T20:55:48.853030Z"
    },
    "papermill": {
     "duration": 0.657561,
     "end_time": "2020-08-30T20:55:48.853191",
     "exception": false,
     "start_time": "2020-08-30T20:55:48.195630",
     "status": "completed"
    },
    "tags": []
   },
   "outputs": [
    {
     "data": {
      "text/plain": [
       "<matplotlib.legend.Legend at 0x7feb74316990>"
      ]
     },
     "execution_count": 18,
     "metadata": {},
     "output_type": "execute_result"
    },
    {
     "data": {
      "image/png": "[encoded data removed]",
      "text/plain": [
       "<Figure size 576x576 with 1 Axes>"
      ]
     },
     "metadata": {
      "needs_background": "light"
     },
     "output_type": "display_data"
    }
   ],
   "source": [
    "# Need to see the relationship between FVC x Percent, with regards to sex\n",
    "plt.figure(figsize=(8,8))\n",
    "\n",
    "f = train.loc[train.Sex == 'Male'] \n",
    "sns.regplot(x=f['FVC'], y=f['Percent'])\n",
    "\n",
    "g = train.loc[train.Sex == 'Female'] \n",
    "sns.regplot(x=g['FVC'], y=g['Percent'])\n",
    "\n",
    "plt.title(\"Distribution of Percent, by Sex\")\n",
    "\n",
    "plt.legend(labels=['Male', 'Female'])"
   ]
  },
  {
   "cell_type": "markdown",
   "metadata": {
    "papermill": {
     "duration": 0.022666,
     "end_time": "2020-08-30T20:55:48.897395",
     "exception": false,
     "start_time": "2020-08-30T20:55:48.874729",
     "status": "completed"
    },
    "tags": []
   },
   "source": [
    "# **Data Cleaning**"
   ]
  },
  {
   "cell_type": "markdown",
   "metadata": {
    "papermill": {
     "duration": 0.021729,
     "end_time": "2020-08-30T20:55:48.940387",
     "exception": false,
     "start_time": "2020-08-30T20:55:48.918658",
     "status": "completed"
    },
    "tags": []
   },
   "source": [
    "I will be removing the data for Patient ID00219637202258203123958 because that data is a major outlier. This patient is a 71-year old ex-smoker male with high FVC values (greater than 5000 mL) and high Percent values (greater than 130%). An FVC measurement of 4800 mL, or greater, is considered a normal measurement. Further, according to the American Lung Association, total lung capacity is approximately 6000 mL. Thus, it seems anomalous to have a patient of pulmonary fibrosis, with a history of smoking, to have FVC measurements close to 6000 mL. For this reason, I am omitting this patient from the dataset."
   ]
  },
  {
   "cell_type": "code",
   "execution_count": 19,
   "metadata": {
    "execution": {
     "iopub.execute_input": "2020-08-30T20:55:48.991715Z",
     "iopub.status.busy": "2020-08-30T20:55:48.990532Z",
     "iopub.status.idle": "2020-08-30T20:55:48.994021Z",
     "shell.execute_reply": "2020-08-30T20:55:48.994588Z"
    },
    "papermill": {
     "duration": 0.032998,
     "end_time": "2020-08-30T20:55:48.994771",
     "exception": false,
     "start_time": "2020-08-30T20:55:48.961773",
     "status": "completed"
    },
    "tags": []
   },
   "outputs": [],
   "source": [
    "# Remove Patient ID00219...3958 \n",
    "\n",
    "train = train[train.Patient != 'ID00219637202258203123958']"
   ]
  },
  {
   "cell_type": "markdown",
   "metadata": {
    "papermill": {
     "duration": 0.020914,
     "end_time": "2020-08-30T20:55:49.037630",
     "exception": false,
     "start_time": "2020-08-30T20:55:49.016716",
     "status": "completed"
    },
    "tags": []
   },
   "source": [
    "The Sex and Smoking Status data is categorical data, so I converted it into encoded it into numerical data. So, there will be one column for Sex, where 1 is Male and 0 is Female. And there will be a Non-smoker column, where 1 is a non-smoker, with no history of smoking, and 0 indicated a history of smoking."
   ]
  },
  {
   "cell_type": "code",
   "execution_count": 20,
   "metadata": {
    "execution": {
     "iopub.execute_input": "2020-08-30T20:55:49.094433Z",
     "iopub.status.busy": "2020-08-30T20:55:49.089063Z",
     "iopub.status.idle": "2020-08-30T20:55:49.205105Z",
     "shell.execute_reply": "2020-08-30T20:55:49.204286Z"
    },
    "papermill": {
     "duration": 0.14647,
     "end_time": "2020-08-30T20:55:49.205237",
     "exception": false,
     "start_time": "2020-08-30T20:55:49.058767",
     "status": "completed"
    },
    "tags": []
   },
   "outputs": [],
   "source": [
    "# One-hot Encode Sex and SmokingStatus columns in train data set\n",
    "\n",
    "from sklearn.preprocessing import OneHotEncoder\n",
    "exp_train = train\n",
    "obj_col = ['Sex','SmokingStatus']\n",
    "\n",
    "# Apply one-hot encoder to each column with categorical data\n",
    "OH_encoder = OneHotEncoder(handle_unknown='ignore', sparse=False)\n",
    "OH_cols_train = pd.DataFrame(OH_encoder.fit_transform(exp_train[obj_col]))\n",
    "\n",
    "# One-hot encoding removed index; put it back\n",
    "OH_cols_train.index = exp_train.index\n",
    "\n",
    "# Adds names to each new column\n",
    "OH_cols_train.columns = OH_encoder.get_feature_names(obj_col)\n",
    "\n",
    "# Remove categorical columns (will replace with one-hot encoding)\n",
    "num_train = exp_train.drop(obj_col, axis=1)\n",
    "\n",
    "OH_train = pd.concat([num_train, OH_cols_train], axis=1)\n",
    "\n",
    "# Drop these columns. Not using this data\n",
    "OH_train = OH_train.drop(['SmokingStatus_Ex-smoker'], axis=1)\n",
    "OH_train = OH_train.drop(['SmokingStatus_Currently smokes'], axis=1)\n",
    "OH_train = OH_train.drop(['Sex_Female'], axis=1)\n",
    "\n",
    "# Rename columns\n",
    "OH_train.rename(columns = {'Sex_Male':'Sex'}, inplace = True) # 1 is Male, 0 is Female\n",
    "OH_train.rename(columns = {'SmokingStatus_Never smoked':'Non-smoker'}, inplace = True) # 1 is Non-smoker, 0 is History of smoking\n",
    "\n",
    "\n",
    "\n",
    "# One-hot Encode Sex and SmokingStatus columns in test data set\n",
    "\n",
    "exp_test = test\n",
    "\n",
    "# Apply one-hot encoder to each column with categorical data\n",
    "OH_encoder = OneHotEncoder(handle_unknown='ignore', sparse=False)\n",
    "OH_cols_test = pd.DataFrame(OH_encoder.fit_transform(exp_test[obj_col]))\n",
    "\n",
    "# One-hot encoding removed index; put it back\n",
    "OH_cols_test.index = exp_test.index\n",
    "\n",
    "# Adds names to each new column\n",
    "OH_cols_test.columns = OH_encoder.get_feature_names(obj_col)\n",
    "\n",
    "# Remove categorical columns (will replace with one-hot encoding)\n",
    "num_test = exp_test.drop(obj_col, axis=1)\n",
    "\n",
    "OH_test = pd.concat([num_test, OH_cols_test], axis=1)\n",
    "\n",
    "OH_test = OH_test.drop(['SmokingStatus_Ex-smoker'], axis=1) #not using this\n",
    "OH_test.rename(columns = {'Sex_Male':'Sex'}, inplace = True) # 1 is Male, 0 is Female\n",
    "OH_test.rename(columns = {'SmokingStatus_Never smoked':'Non-smoker'}, inplace = True) # 1 is Non-smoker, 0 is History of smoking"
   ]
  },
  {
   "cell_type": "code",
   "execution_count": 21,
   "metadata": {
    "execution": {
     "iopub.execute_input": "2020-08-30T20:55:49.259662Z",
     "iopub.status.busy": "2020-08-30T20:55:49.258358Z",
     "iopub.status.idle": "2020-08-30T20:55:49.590673Z",
     "shell.execute_reply": "2020-08-30T20:55:49.590009Z"
    },
    "papermill": {
     "duration": 0.36354,
     "end_time": "2020-08-30T20:55:49.590818",
     "exception": false,
     "start_time": "2020-08-30T20:55:49.227278",
     "status": "completed"
    },
    "tags": []
   },
   "outputs": [
    {
     "data": {
      "text/plain": [
       "<matplotlib.axes._subplots.AxesSubplot at 0x7feb743575d0>"
      ]
     },
     "execution_count": 21,
     "metadata": {},
     "output_type": "execute_result"
    },
    {
     "data": {
      "image/png": "[encoded data removed]",
      "text/plain": [
       "<Figure size 720x720 with 2 Axes>"
      ]
     },
     "metadata": {
      "needs_background": "light"
     },
     "output_type": "display_data"
    }
   ],
   "source": [
    "# Heatmap - checking for correlation\n",
    "\n",
    "mask = np.zeros_like(OH_train.corr(), dtype=np.bool)\n",
    "mask[np.triu_indices_from(mask)] = True\n",
    "\n",
    "plt.figure(figsize=(10,10))\n",
    "sns.heatmap(OH_train.corr(),vmin=-1,cmap = 'viridis',annot=True,mask = mask)"
   ]
  },
  {
   "cell_type": "markdown",
   "metadata": {
    "papermill": {
     "duration": 0.022496,
     "end_time": "2020-08-30T20:55:49.635451",
     "exception": false,
     "start_time": "2020-08-30T20:55:49.612955",
     "status": "completed"
    },
    "tags": []
   },
   "source": [
    "# **Multiple Linear Regression Model**"
   ]
  },
  {
   "cell_type": "markdown",
   "metadata": {
    "papermill": {
     "duration": 0.021708,
     "end_time": "2020-08-30T20:55:49.679348",
     "exception": false,
     "start_time": "2020-08-30T20:55:49.657640",
     "status": "completed"
    },
    "tags": []
   },
   "source": [
    "First, I am splitting the Patient_Week column in the sample submission ('sample') dataset to Patient and Week, because that is the format used in the training and test data. \n",
    "Next, I will merge the test and sample data together. The test dataset contains all data for 5 patients. The sample dataset contains data for Patient ID and Week Number for the 5 patients in the test dataset. In this project, I will be predicting FVC by Weeks,Age, Percent, Sex, and Smoking Status for patients in the sample dataset. I will be importing information about Age, Percent, Sex, and Smoking Status from the test dataset my merging the two datasets."
   ]
  },
  {
   "cell_type": "code",
   "execution_count": 22,
   "metadata": {
    "execution": {
     "iopub.execute_input": "2020-08-30T20:55:49.750970Z",
     "iopub.status.busy": "2020-08-30T20:55:49.750171Z",
     "iopub.status.idle": "2020-08-30T20:55:49.754043Z",
     "shell.execute_reply": "2020-08-30T20:55:49.753376Z"
    },
    "papermill": {
     "duration": 0.052901,
     "end_time": "2020-08-30T20:55:49.754174",
     "exception": false,
     "start_time": "2020-08-30T20:55:49.701273",
     "status": "completed"
    },
    "tags": []
   },
   "outputs": [],
   "source": [
    "sample['Weeks']   = sample['Patient_Week'].apply( lambda x: int(x.split('_')[-1]) )\n",
    "sample['Patient'] = sample['Patient_Week'].apply( lambda x: x.split('_')[0] )\n",
    "sample = sample[['Patient','Weeks','Confidence','Patient_Week']]\n",
    "OH_test = OH_test.drop(['Weeks'], axis=1)\n",
    "sub = sample.merge(OH_test, on=\"Patient\")"
   ]
  },
  {
   "cell_type": "markdown",
   "metadata": {
    "papermill": {
     "duration": 0.02092,
     "end_time": "2020-08-30T20:55:49.796690",
     "exception": false,
     "start_time": "2020-08-30T20:55:49.775770",
     "status": "completed"
    },
    "tags": []
   },
   "source": [
    "Training the model:"
   ]
  },
  {
   "cell_type": "code",
   "execution_count": 23,
   "metadata": {
    "execution": {
     "iopub.execute_input": "2020-08-30T20:55:49.847789Z",
     "iopub.status.busy": "2020-08-30T20:55:49.846994Z",
     "iopub.status.idle": "2020-08-30T20:55:50.020477Z",
     "shell.execute_reply": "2020-08-30T20:55:50.019758Z"
    },
    "papermill": {
     "duration": 0.202549,
     "end_time": "2020-08-30T20:55:50.020634",
     "exception": false,
     "start_time": "2020-08-30T20:55:49.818085",
     "status": "completed"
    },
    "tags": []
   },
   "outputs": [],
   "source": [
    "from sklearn.model_selection import train_test_split \n",
    "from sklearn.linear_model import LinearRegression\n",
    "from sklearn import metrics\n",
    "\n",
    "# features\n",
    "X = OH_train[['Weeks','Age','Percent','Sex','Non-smoker']].values\n",
    "y = OH_train['FVC'].values\n",
    "\n",
    "#train the Regression Model\n",
    "regressionmodel = LinearRegression()  \n",
    "regressionmodel.fit(X, y)\n",
    "OH_train['y_pred'] = regressionmodel.predict(X)"
   ]
  },
  {
   "cell_type": "markdown",
   "metadata": {
    "papermill": {
     "duration": 0.021763,
     "end_time": "2020-08-30T20:55:50.064537",
     "exception": false,
     "start_time": "2020-08-30T20:55:50.042774",
     "status": "completed"
    },
    "tags": []
   },
   "source": [
    "I wanted to evaluate this model using metrics for regression models: MAE, MSE, and RMSE.\n",
    "\n",
    "RMSE (Root Mean Squared Error) is a widely accepted evaluation metric for regression models, so I want to focus on this value to evaluate my model's predictions. The code below shows that the RMSE is 12.39% of the mean FVC value. Although a 12% error is not ideal, it suggests that the model is able to predict FVC values close to the actual measurements. \n",
    "\n",
    "I will be using this model to predict FVC values in the sample submission dataset, which will be submitted to the OSIC competition on Kaggle."
   ]
  },
  {
   "cell_type": "code",
   "execution_count": 24,
   "metadata": {
    "execution": {
     "iopub.execute_input": "2020-08-30T20:55:50.121445Z",
     "iopub.status.busy": "2020-08-30T20:55:50.118329Z",
     "iopub.status.idle": "2020-08-30T20:55:50.131867Z",
     "shell.execute_reply": "2020-08-30T20:55:50.130915Z"
    },
    "papermill": {
     "duration": 0.045378,
     "end_time": "2020-08-30T20:55:50.132064",
     "exception": false,
     "start_time": "2020-08-30T20:55:50.086686",
     "status": "completed"
    },
    "tags": []
   },
   "outputs": [
    {
     "name": "stdout",
     "output_type": "stream",
     "text": [
      "Mean Absolute Error: 257.2392485551861\n",
      "Mean Squared Error: 109647.32039531477\n",
      "Root Mean Squared Error: 331.13036767308853\n",
      "Mean of Actual FVC Values: 2672.0409090909093\n",
      "Root Mean Squared Error is 12.39 % of the Mean of FVC Values\n"
     ]
    }
   ],
   "source": [
    "meanfvc = np.mean(OH_train['FVC'].values)\n",
    "rmseval = np.sqrt(metrics.mean_squared_error(OH_train['FVC'].values, OH_train['y_pred'].values))\n",
    "\n",
    "print('Mean Absolute Error:', metrics.mean_absolute_error(OH_train['FVC'].values, OH_train['y_pred'].values))  \n",
    "print('Mean Squared Error:', metrics.mean_squared_error(OH_train['FVC'].values, OH_train['y_pred'].values))  \n",
    "print('Root Mean Squared Error:', np.sqrt(metrics.mean_squared_error(OH_train['FVC'].values, OH_train['y_pred'].values)))\n",
    "print('Mean of Actual FVC Values:', np.mean(OH_train['FVC'].values))\n",
    "print('Root Mean Squared Error is',round(rmseval/meanfvc*100.00,2),'% of the Mean of FVC Values')"
   ]
  },
  {
   "cell_type": "markdown",
   "metadata": {
    "papermill": {
     "duration": 0.021933,
     "end_time": "2020-08-30T20:55:50.176573",
     "exception": false,
     "start_time": "2020-08-30T20:55:50.154640",
     "status": "completed"
    },
    "tags": []
   },
   "source": [
    "Now that I have trained the model, I will use the regression model (regressionmodel) to predict FVC values for the patients in the submission (sub) dataset:"
   ]
  },
  {
   "cell_type": "code",
   "execution_count": 25,
   "metadata": {
    "execution": {
     "iopub.execute_input": "2020-08-30T20:55:50.230740Z",
     "iopub.status.busy": "2020-08-30T20:55:50.228979Z",
     "iopub.status.idle": "2020-08-30T20:55:50.265205Z",
     "shell.execute_reply": "2020-08-30T20:55:50.264411Z"
    },
    "papermill": {
     "duration": 0.066282,
     "end_time": "2020-08-30T20:55:50.265332",
     "exception": false,
     "start_time": "2020-08-30T20:55:50.199050",
     "status": "completed"
    },
    "tags": []
   },
   "outputs": [
    {
     "data": {
      "text/html": [
       "<div>\n",
       "<style scoped>\n",
       "    .dataframe tbody tr th:only-of-type {\n",
       "        vertical-align: middle;\n",
       "    }\n",
       "\n",
       "    .dataframe tbody tr th {\n",
       "        vertical-align: top;\n",
       "    }\n",
       "\n",
       "    .dataframe thead th {\n",
       "        text-align: right;\n",
       "    }\n",
       "</style>\n",
       "<table border=\"1\" class=\"dataframe\">\n",
       "  <thead>\n",
       "    <tr style=\"text-align: right;\">\n",
       "      <th></th>\n",
       "      <th>Patient</th>\n",
       "      <th>Weeks</th>\n",
       "      <th>Confidence</th>\n",
       "      <th>Patient_Week</th>\n",
       "      <th>FVC</th>\n",
       "      <th>Percent</th>\n",
       "      <th>Age</th>\n",
       "      <th>Sex</th>\n",
       "      <th>Non-smoker</th>\n",
       "    </tr>\n",
       "  </thead>\n",
       "  <tbody>\n",
       "    <tr>\n",
       "      <th>0</th>\n",
       "      <td>ID00419637202311204720264</td>\n",
       "      <td>-12</td>\n",
       "      <td>171.984196</td>\n",
       "      <td>ID00419637202311204720264_-12</td>\n",
       "      <td>2571.950674</td>\n",
       "      <td>70.186855</td>\n",
       "      <td>73</td>\n",
       "      <td>1.0</td>\n",
       "      <td>0.0</td>\n",
       "    </tr>\n",
       "    <tr>\n",
       "      <th>1</th>\n",
       "      <td>ID00419637202311204720264</td>\n",
       "      <td>-11</td>\n",
       "      <td>171.984196</td>\n",
       "      <td>ID00419637202311204720264_-11</td>\n",
       "      <td>2571.995761</td>\n",
       "      <td>70.186855</td>\n",
       "      <td>73</td>\n",
       "      <td>1.0</td>\n",
       "      <td>0.0</td>\n",
       "    </tr>\n",
       "    <tr>\n",
       "      <th>2</th>\n",
       "      <td>ID00419637202311204720264</td>\n",
       "      <td>-10</td>\n",
       "      <td>171.984196</td>\n",
       "      <td>ID00419637202311204720264_-10</td>\n",
       "      <td>2572.040848</td>\n",
       "      <td>70.186855</td>\n",
       "      <td>73</td>\n",
       "      <td>1.0</td>\n",
       "      <td>0.0</td>\n",
       "    </tr>\n",
       "    <tr>\n",
       "      <th>3</th>\n",
       "      <td>ID00419637202311204720264</td>\n",
       "      <td>-9</td>\n",
       "      <td>171.984196</td>\n",
       "      <td>ID00419637202311204720264_-9</td>\n",
       "      <td>2572.085935</td>\n",
       "      <td>70.186855</td>\n",
       "      <td>73</td>\n",
       "      <td>1.0</td>\n",
       "      <td>0.0</td>\n",
       "    </tr>\n",
       "    <tr>\n",
       "      <th>4</th>\n",
       "      <td>ID00419637202311204720264</td>\n",
       "      <td>-8</td>\n",
       "      <td>171.984196</td>\n",
       "      <td>ID00419637202311204720264_-8</td>\n",
       "      <td>2572.131023</td>\n",
       "      <td>70.186855</td>\n",
       "      <td>73</td>\n",
       "      <td>1.0</td>\n",
       "      <td>0.0</td>\n",
       "    </tr>\n",
       "    <tr>\n",
       "      <th>...</th>\n",
       "      <td>...</td>\n",
       "      <td>...</td>\n",
       "      <td>...</td>\n",
       "      <td>...</td>\n",
       "      <td>...</td>\n",
       "      <td>...</td>\n",
       "      <td>...</td>\n",
       "      <td>...</td>\n",
       "      <td>...</td>\n",
       "    </tr>\n",
       "    <tr>\n",
       "      <th>725</th>\n",
       "      <td>ID00426637202313170790466</td>\n",
       "      <td>129</td>\n",
       "      <td>171.984196</td>\n",
       "      <td>ID00426637202313170790466_129</td>\n",
       "      <td>2642.564065</td>\n",
       "      <td>71.824968</td>\n",
       "      <td>73</td>\n",
       "      <td>1.0</td>\n",
       "      <td>1.0</td>\n",
       "    </tr>\n",
       "    <tr>\n",
       "      <th>726</th>\n",
       "      <td>ID00426637202313170790466</td>\n",
       "      <td>130</td>\n",
       "      <td>171.984196</td>\n",
       "      <td>ID00426637202313170790466_130</td>\n",
       "      <td>2642.609152</td>\n",
       "      <td>71.824968</td>\n",
       "      <td>73</td>\n",
       "      <td>1.0</td>\n",
       "      <td>1.0</td>\n",
       "    </tr>\n",
       "    <tr>\n",
       "      <th>727</th>\n",
       "      <td>ID00426637202313170790466</td>\n",
       "      <td>131</td>\n",
       "      <td>171.984196</td>\n",
       "      <td>ID00426637202313170790466_131</td>\n",
       "      <td>2642.654239</td>\n",
       "      <td>71.824968</td>\n",
       "      <td>73</td>\n",
       "      <td>1.0</td>\n",
       "      <td>1.0</td>\n",
       "    </tr>\n",
       "    <tr>\n",
       "      <th>728</th>\n",
       "      <td>ID00426637202313170790466</td>\n",
       "      <td>132</td>\n",
       "      <td>171.984196</td>\n",
       "      <td>ID00426637202313170790466_132</td>\n",
       "      <td>2642.699326</td>\n",
       "      <td>71.824968</td>\n",
       "      <td>73</td>\n",
       "      <td>1.0</td>\n",
       "      <td>1.0</td>\n",
       "    </tr>\n",
       "    <tr>\n",
       "      <th>729</th>\n",
       "      <td>ID00426637202313170790466</td>\n",
       "      <td>133</td>\n",
       "      <td>171.984196</td>\n",
       "      <td>ID00426637202313170790466_133</td>\n",
       "      <td>2642.744413</td>\n",
       "      <td>71.824968</td>\n",
       "      <td>73</td>\n",
       "      <td>1.0</td>\n",
       "      <td>1.0</td>\n",
       "    </tr>\n",
       "  </tbody>\n",
       "</table>\n",
       "<p>730 rows × 9 columns</p>\n",
       "</div>"
      ],
      "text/plain": [
       "                       Patient  Weeks  Confidence  \\\n",
       "0    ID00419637202311204720264    -12  171.984196   \n",
       "1    ID00419637202311204720264    -11  171.984196   \n",
       "2    ID00419637202311204720264    -10  171.984196   \n",
       "3    ID00419637202311204720264     -9  171.984196   \n",
       "4    ID00419637202311204720264     -8  171.984196   \n",
       "..                         ...    ...         ...   \n",
       "725  ID00426637202313170790466    129  171.984196   \n",
       "726  ID00426637202313170790466    130  171.984196   \n",
       "727  ID00426637202313170790466    131  171.984196   \n",
       "728  ID00426637202313170790466    132  171.984196   \n",
       "729  ID00426637202313170790466    133  171.984196   \n",
       "\n",
       "                      Patient_Week          FVC    Percent  Age  Sex  \\\n",
       "0    ID00419637202311204720264_-12  2571.950674  70.186855   73  1.0   \n",
       "1    ID00419637202311204720264_-11  2571.995761  70.186855   73  1.0   \n",
       "2    ID00419637202311204720264_-10  2572.040848  70.186855   73  1.0   \n",
       "3     ID00419637202311204720264_-9  2572.085935  70.186855   73  1.0   \n",
       "4     ID00419637202311204720264_-8  2572.131023  70.186855   73  1.0   \n",
       "..                             ...          ...        ...  ...  ...   \n",
       "725  ID00426637202313170790466_129  2642.564065  71.824968   73  1.0   \n",
       "726  ID00426637202313170790466_130  2642.609152  71.824968   73  1.0   \n",
       "727  ID00426637202313170790466_131  2642.654239  71.824968   73  1.0   \n",
       "728  ID00426637202313170790466_132  2642.699326  71.824968   73  1.0   \n",
       "729  ID00426637202313170790466_133  2642.744413  71.824968   73  1.0   \n",
       "\n",
       "     Non-smoker  \n",
       "0           0.0  \n",
       "1           0.0  \n",
       "2           0.0  \n",
       "3           0.0  \n",
       "4           0.0  \n",
       "..          ...  \n",
       "725         1.0  \n",
       "726         1.0  \n",
       "727         1.0  \n",
       "728         1.0  \n",
       "729         1.0  \n",
       "\n",
       "[730 rows x 9 columns]"
      ]
     },
     "execution_count": 25,
     "metadata": {},
     "output_type": "execute_result"
    }
   ],
   "source": [
    "sub.sort_values( ['Patient','Weeks'], inplace=True )\n",
    "\n",
    "X2 = sub[['Weeks','Age','Percent','Sex','Non-smoker']].values\n",
    "            \n",
    "sub['FVC'] = regressionmodel.predict(X2)\n",
    "sub['Confidence'] = np.std(sub['FVC'])\n",
    "sub"
   ]
  },
  {
   "cell_type": "markdown",
   "metadata": {
    "papermill": {
     "duration": 0.072698,
     "end_time": "2020-08-30T20:55:50.360970",
     "exception": false,
     "start_time": "2020-08-30T20:55:50.288272",
     "status": "completed"
    },
    "tags": []
   },
   "source": [
    "The function below is not my own. This function definition for the Laplace Log Likelihood metric is taken from https://www.kaggle.com/rohanrao/osic-understanding-laplace-log-likelihood\n",
    "\n",
    "This is the metric that the OSIC Competition is using to evaluate models. In my case, I am using it to approximate how useful my model is before submitting. According to the article linked above, -8.023 is the minimum score needed for a model to be considered useful, and my approximation is greater than this value.\n",
    "\n",
    "I have submitted my predictions to the OSIC Competition and received a Laplace Log Likelihood Score of: -7.4870"
   ]
  },
  {
   "cell_type": "code",
   "execution_count": 26,
   "metadata": {
    "execution": {
     "iopub.execute_input": "2020-08-30T20:55:50.420141Z",
     "iopub.status.busy": "2020-08-30T20:55:50.418908Z",
     "iopub.status.idle": "2020-08-30T20:55:50.424032Z",
     "shell.execute_reply": "2020-08-30T20:55:50.423360Z"
    },
    "papermill": {
     "duration": 0.041134,
     "end_time": "2020-08-30T20:55:50.424183",
     "exception": false,
     "start_time": "2020-08-30T20:55:50.383049",
     "status": "completed"
    },
    "tags": []
   },
   "outputs": [
    {
     "data": {
      "text/plain": [
       "-6.694729540943203"
      ]
     },
     "execution_count": 26,
     "metadata": {},
     "output_type": "execute_result"
    }
   ],
   "source": [
    "def laplace_log_likelihood(actual_fvc, predicted_fvc, confidence, return_values = False):\n",
    "    sd_clipped = np.maximum(confidence, 70)\n",
    "    delta = np.minimum(np.abs(actual_fvc - predicted_fvc), 1000)\n",
    "    metric = - np.sqrt(2) * delta / sd_clipped - np.log(np.sqrt(2) * sd_clipped)\n",
    "    if return_values:\n",
    "        return metric\n",
    "    else:\n",
    "        return np.mean(metric)\n",
    "\n",
    "\n",
    "laplace_log_likelihood(sub['FVC'], np.mean(sub['FVC']), np.std(sub['FVC']))"
   ]
  },
  {
   "cell_type": "code",
   "execution_count": 27,
   "metadata": {
    "execution": {
     "iopub.execute_input": "2020-08-30T20:55:50.523510Z",
     "iopub.status.busy": "2020-08-30T20:55:50.522706Z",
     "iopub.status.idle": "2020-08-30T20:55:50.637284Z",
     "shell.execute_reply": "2020-08-30T20:55:50.636496Z"
    },
    "papermill": {
     "duration": 0.145036,
     "end_time": "2020-08-30T20:55:50.637411",
     "exception": false,
     "start_time": "2020-08-30T20:55:50.492375",
     "status": "completed"
    },
    "tags": []
   },
   "outputs": [],
   "source": [
    "submission = sub[['Patient_Week','FVC','Confidence']]\n",
    "submission.to_csv('submission.csv', index=False) "
   ]
  },
  {
   "cell_type": "markdown",
   "metadata": {
    "papermill": {
     "duration": 0.022165,
     "end_time": "2020-08-30T20:55:50.682718",
     "exception": false,
     "start_time": "2020-08-30T20:55:50.660553",
     "status": "completed"
    },
    "tags": []
   },
   "source": [
    "# **Citations**"
   ]
  },
  {
   "cell_type": "markdown",
   "metadata": {
    "papermill": {
     "duration": 0.02216,
     "end_time": "2020-08-30T20:55:50.727291",
     "exception": false,
     "start_time": "2020-08-30T20:55:50.705131",
     "status": "completed"
    },
    "tags": []
   },
   "source": [
    "American Lung Association. “Lung Capacity and Aging.” American Lung Association, May 2020, www.lung.org/lung-health-diseases/how-lungs-work/lung-capacity-and-aging.\n",
    "\n",
    "Ekström, Magnus et al. “Effects of smoking, gender and occupational exposure on the risk of severe pulmonary fibrosis: a population-based case-control study.” BMJ open vol. 4,1 e004018. 9 Jan. 2014, doi:10.1136/bmjopen-2013-004018\n",
    "\n",
    "Kärkkäinen, Miia et al. “Effect of smoking and comorbidities on survival in idiopathic pulmonary fibrosis.” Respiratory research vol. 18,1 160. 22 Aug. 2017, doi:10.1186/s12931-017-0642-6"
   ]
  }
 ],
 "metadata": {
  "kernelspec": {
   "display_name": "Python 3",
   "language": "python",
   "name": "python3"
  },
  "language_info": {
   "codemirror_mode": {
    "name": "ipython",
    "version": 3
   },
   "file_extension": ".py",
   "mimetype": "text/x-python",
   "name": "python",
   "nbconvert_exporter": "python",
   "pygments_lexer": "ipython3",
   "version": "3.7.6"
  },
  "papermill": {
   "duration": 13.238798,
   "end_time": "2020-08-30T20:55:50.857803",
   "environment_variables": {},
   "exception": null,
   "input_path": "__notebook__.ipynb",
   "output_path": "__notebook__.ipynb",
   "parameters": {},
   "start_time": "2020-08-30T20:55:37.619005",
   "version": "2.1.0"
  }
 },
 "nbformat": 4,
 "nbformat_minor": 4
}
